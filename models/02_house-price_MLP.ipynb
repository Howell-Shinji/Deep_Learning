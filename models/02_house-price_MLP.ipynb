{
 "cells": [
  {
   "cell_type": "markdown",
   "id": "e842005e",
   "metadata": {},
   "source": [
    "This project focuses on the house price prediction competition on Kaggle. We use the Multi - Layer Perceptron (MLP) model in deep learning and implement it with the PyTorch framework. It's well - known that for non - time - series house price prediction tasks with limited data, the prediction performance of deep learning models usually lags far behind that of traditional machine learning methods.\n",
    "\n",
    "However, the core objective of this project is not to achieve high prediction accuracy but to provide a valuable opportunity for practice and learning. We firmly adhere to the concept of \"learning through practice\", enabling participants to gain in - depth understanding and mastery of relevant technologies during this process.\n",
    "\n",
    "If you have any questions about this project or have unique suggestions for improvement, please feel free to communicate with us. We look forward to exploring and progressing together with you!\n",
    "\n",
    "Competition link: [house-prices-advanced-regression](https://www.kaggle.com/competitions/house-prices-advanced-regression-techniques)"
   ]
  },
  {
   "cell_type": "code",
   "execution_count": 15,
   "id": "98a108c4",
   "metadata": {},
   "outputs": [],
   "source": [
    "import torch\n",
    "import pandas as pd\n",
    "import numpy as np\n",
    "import matplotlib.pyplot as plt\n",
    "from torch import nn, optim\n",
    "from torch.utils.data import TensorDataset, DataLoader"
   ]
  },
  {
   "cell_type": "markdown",
   "id": "838568d4",
   "metadata": {},
   "source": [
    "# 1.Set Up GPU"
   ]
  },
  {
   "cell_type": "code",
   "execution_count": 16,
   "id": "b4ebd370",
   "metadata": {},
   "outputs": [
    {
     "name": "stdout",
     "output_type": "stream",
     "text": [
      "Using device: cuda:0\n"
     ]
    }
   ],
   "source": [
    "# 检查并设置设备：优先使用GPU（CUDA），如果没有则使用CPU\n",
    "device = torch.device(\"cuda:0\" if torch.cuda.is_available() else \"cpu\")\n",
    "\n",
    "# 打印当前使用的设备信息\n",
    "print(f\"Using device: {device}\")"
   ]
  },
  {
   "cell_type": "markdown",
   "id": "5f62ed26",
   "metadata": {},
   "source": [
    "# 2.Data Processing"
   ]
  },
  {
   "cell_type": "markdown",
   "id": "147a74f5",
   "metadata": {},
   "source": [
    "## 2.1.Loading Dataset"
   ]
  },
  {
   "cell_type": "code",
   "execution_count": 17,
   "id": "7cb8555e",
   "metadata": {},
   "outputs": [
    {
     "name": "stdout",
     "output_type": "stream",
     "text": [
      "(1460, 81) (1459, 80)\n"
     ]
    }
   ],
   "source": [
    "# 读取训练数据和测试数据\n",
    "# 使用pandas的read_csv函数从指定路径加载CSV文件\n",
    "train_data = pd.read_csv(r'./data/house-prices/train.csv')  # 加载训练数据集\n",
    "test_data = pd.read_csv(r'./data/house-prices/test.csv')    # 加载测试数据集\n",
    "\n",
    "# 打印训练数据和测试数据的形状（行数和列数）\n",
    "# shape属性返回一个元组，格式为(行数, 列数)\n",
    "print(train_data.shape, test_data.shape)"
   ]
  },
  {
   "cell_type": "markdown",
   "id": "25b0cacb",
   "metadata": {},
   "source": [
    "## 2.2.Data Clean"
   ]
  },
  {
   "cell_type": "code",
   "execution_count": 18,
   "id": "7c28421f",
   "metadata": {},
   "outputs": [],
   "source": [
    "# 将训练集(除第一列ID和最后一列标签)和测试集(除第一列ID)的特征数据合并\n",
    "all_features = pd.concat((train_data.iloc[:, 1:-1], test_data.iloc[:, 1:]))\n",
    "\n",
    "# 筛选出数值型特征列(非object类型)\n",
    "numeric_features = all_features.dtypes[all_features.dtypes != 'object'].index\n",
    "# 对数值特征进行标准化处理：(x - 均值)/标准差\n",
    "all_features[numeric_features] = all_features[numeric_features].apply(lambda x: (x - x.mean()) / (x.std()))\n",
    "# 用0填充标准化后可能产生的缺失值(NaN)\n",
    "all_features[numeric_features] = all_features[numeric_features].fillna(0)\n",
    "\n",
    "# 对类别型特征进行one-hot编码，dummy_na=True表示也会为缺失值创建指示列\n",
    "all_features = pd.get_dummies(all_features, dummy_na=True)"
   ]
  },
  {
   "cell_type": "markdown",
   "id": "a43fe932",
   "metadata": {},
   "source": [
    "## 2.3.Convert Data Types"
   ]
  },
  {
   "cell_type": "code",
   "execution_count": 19,
   "id": "61273b1d",
   "metadata": {},
   "outputs": [],
   "source": [
    "# 获取训练集样本数量\n",
    "n_train = train_data.shape[0]   \n",
    "\n",
    "# 将前n_train行数据转换为PyTorch张量作为训练特征\n",
    "# all_features是包含所有特征(训练+测试)的DataFrame\n",
    "# 转换为numpy数组后再转为torch.float32类型的张量\n",
    "train_features = torch.tensor(all_features[:n_train].to_numpy(dtype=np.float32), dtype=torch.float32)\n",
    "\n",
    "# 将剩余数据转换为PyTorch张量作为测试特征\n",
    "test_features = torch.tensor(all_features[n_train:].to_numpy(dtype=np.float32), dtype=torch.float32)\n",
    "\n",
    "# 将训练集的房价(SalePrice)转换为PyTorch张量\n",
    "# view(-1, 1)将一维数组转换为二维张量，形状为[n_samples, 1]\n",
    "train_labels = torch.tensor(train_data.SalePrice.to_numpy(dtype=np.float32), dtype=torch.float32).view(-1, 1)"
   ]
  },
  {
   "cell_type": "markdown",
   "id": "e37528b1",
   "metadata": {},
   "source": [
    "## 2.4.Create DataLoader"
   ]
  },
  {
   "cell_type": "code",
   "execution_count": 20,
   "id": "9951fbe7",
   "metadata": {},
   "outputs": [],
   "source": [
    "# 创建训练数据集TensorDataset对象，将特征和标签组合在一起\n",
    "train_dataset = TensorDataset(train_features, train_labels)\n",
    "\n",
    "# 创建训练数据加载器DataLoader\n",
    "train_loader = DataLoader(\n",
    "    dataset=train_dataset,  # 指定训练数据集\n",
    "    batch_size=128,        # 设置批量大小为128\n",
    "    shuffle=True,          # 每个epoch打乱数据顺序\n",
    "    pin_memory=True       # 启用内存固定(加速GPU数据传输)\n",
    ")"
   ]
  },
  {
   "cell_type": "markdown",
   "id": "08dc6a09",
   "metadata": {},
   "source": [
    "# 3.Construct A Model"
   ]
  },
  {
   "cell_type": "markdown",
   "id": "0c3805b1",
   "metadata": {},
   "source": [
    "## 3.1.Construct A MLP"
   ]
  },
  {
   "cell_type": "code",
   "execution_count": 21,
   "id": "fd818baa",
   "metadata": {},
   "outputs": [],
   "source": [
    "class HousePriceModel(nn.Module):\n",
    "    def __init__(self, input_size):\n",
    "        \"\"\"房价预测模型 (MLP网络结构)\n",
    "        \n",
    "        参数:\n",
    "            input_size: 输入特征的维度大小\n",
    "        \"\"\"\n",
    "        super().__init__()\n",
    "        self.net = nn.Sequential(\n",
    "            # 第一层全连接层: input_size -> 256\n",
    "            nn.Linear(input_size, 256),\n",
    "            nn.ReLU(),  # ReLU激活函数\n",
    "            \n",
    "            # 第二层全连接层: 256 -> 128 \n",
    "            nn.Linear(256, 128),\n",
    "            nn.ReLU(),\n",
    "            \n",
    "            # 第三层全连接层: 128 -> 64\n",
    "            nn.Linear(128, 64),\n",
    "            nn.ReLU(),\n",
    "            \n",
    "            # 第四层全连接层: 64 -> 32\n",
    "            nn.Linear(64, 32),\n",
    "            nn.ReLU(),\n",
    "            \n",
    "            # 输出层: 32 -> 1 (输出房价预测值)\n",
    "            nn.Linear(32, 1)\n",
    "        )\n",
    "        \n",
    "    def forward(self, x):\n",
    "        \"\"\"前向传播\n",
    "        \n",
    "        参数:\n",
    "            x: 输入特征张量\n",
    "        返回:\n",
    "            房价预测值\n",
    "        \"\"\"\n",
    "        return self.net(x)"
   ]
  },
  {
   "cell_type": "code",
   "execution_count": 22,
   "id": "7ebf862b",
   "metadata": {},
   "outputs": [
    {
     "name": "stdout",
     "output_type": "stream",
     "text": [
      "HousePriceModel(\n",
      "  (net): Sequential(\n",
      "    (0): Linear(in_features=330, out_features=256, bias=True)\n",
      "    (1): ReLU()\n",
      "    (2): Linear(in_features=256, out_features=128, bias=True)\n",
      "    (3): ReLU()\n",
      "    (4): Linear(in_features=128, out_features=64, bias=True)\n",
      "    (5): ReLU()\n",
      "    (6): Linear(in_features=64, out_features=32, bias=True)\n",
      "    (7): ReLU()\n",
      "    (8): Linear(in_features=32, out_features=1, bias=True)\n",
      "  )\n",
      ")\n"
     ]
    }
   ],
   "source": [
    "# 创建房屋价格预测模型实例，输入维度为训练特征的列数\n",
    "# 并将模型移动到指定设备(CPU/GPU)\n",
    "model = HousePriceModel(train_features.shape[1]).to(device)\n",
    "\n",
    "# 打印模型结构，显示网络层和参数信息\n",
    "print(model)"
   ]
  },
  {
   "cell_type": "markdown",
   "id": "374b7b2c",
   "metadata": {},
   "source": [
    "## 3.2.Construct An Iterator And A Loss Function"
   ]
  },
  {
   "cell_type": "code",
   "execution_count": 23,
   "id": "805d942f",
   "metadata": {},
   "outputs": [],
   "source": [
    "# 定义损失函数 - 使用均方误差(MSE)作为评估指标\n",
    "criterion = nn.MSELoss()\n",
    "\n",
    "# 定义优化器 - 使用Adam优化算法，学习率设为0.02\n",
    "optimizer = optim.Adam(model.parameters(), lr = 0.02)"
   ]
  },
  {
   "cell_type": "markdown",
   "id": "2dbdd705",
   "metadata": {},
   "source": [
    "# 4.Training Loop"
   ]
  },
  {
   "cell_type": "markdown",
   "id": "3ab4bdbc",
   "metadata": {},
   "source": [
    "## 4.1.Training"
   ]
  },
  {
   "cell_type": "code",
   "execution_count": 24,
   "id": "f31d8a40",
   "metadata": {},
   "outputs": [
    {
     "name": "stdout",
     "output_type": "stream",
     "text": [
      "Epoch [20/1000], Loss: 362752738.6667\n",
      "Epoch [40/1000], Loss: 165280366.0000\n",
      "Epoch [60/1000], Loss: 105259408.0000\n",
      "Epoch [80/1000], Loss: 83517063.3333\n",
      "Epoch [100/1000], Loss: 49101049.5000\n",
      "Epoch [120/1000], Loss: 38814403.8333\n",
      "Epoch [140/1000], Loss: 39290777.0000\n",
      "Epoch [160/1000], Loss: 25655695.4167\n",
      "Epoch [180/1000], Loss: 32849485.5000\n",
      "Epoch [200/1000], Loss: 32347750.6667\n",
      "Epoch [220/1000], Loss: 17902183.5833\n",
      "Epoch [240/1000], Loss: 11404892.3750\n",
      "Epoch [260/1000], Loss: 23814412.6667\n",
      "Epoch [280/1000], Loss: 41598400.8333\n",
      "Epoch [300/1000], Loss: 6045105.9583\n",
      "Epoch [320/1000], Loss: 25491186.0833\n",
      "Epoch [340/1000], Loss: 6210134.6875\n",
      "Epoch [360/1000], Loss: 66542815.3333\n",
      "Epoch [380/1000], Loss: 4217583.7917\n",
      "Epoch [400/1000], Loss: 6208492.0417\n",
      "Epoch [420/1000], Loss: 8383025.7500\n",
      "Epoch [440/1000], Loss: 10780233.9167\n",
      "Epoch [460/1000], Loss: 64635926.8333\n",
      "Epoch [480/1000], Loss: 5882827.8333\n",
      "Epoch [500/1000], Loss: 10983640.6250\n",
      "Epoch [520/1000], Loss: 8110817.1667\n",
      "Epoch [540/1000], Loss: 83387011.7500\n",
      "Epoch [560/1000], Loss: 1674029.8750\n",
      "Epoch [580/1000], Loss: 2338153.0104\n",
      "Epoch [600/1000], Loss: 7862873.5417\n",
      "Epoch [620/1000], Loss: 5658602.2917\n",
      "Epoch [640/1000], Loss: 3592676.6875\n",
      "Epoch [660/1000], Loss: 11630090.1250\n",
      "Epoch [680/1000], Loss: 2007330.9896\n",
      "Epoch [700/1000], Loss: 122712807.3333\n",
      "Epoch [720/1000], Loss: 4544450.1042\n",
      "Epoch [740/1000], Loss: 3124474.2500\n",
      "Epoch [760/1000], Loss: 6121845.8333\n",
      "Epoch [780/1000], Loss: 12224621.0417\n",
      "Epoch [800/1000], Loss: 173544228.0000\n",
      "Epoch [820/1000], Loss: 985072.7708\n",
      "Epoch [840/1000], Loss: 554213.8594\n",
      "Epoch [860/1000], Loss: 778790.4948\n",
      "Epoch [880/1000], Loss: 4243907.9479\n",
      "Epoch [900/1000], Loss: 15056142.9583\n",
      "Epoch [920/1000], Loss: 425412.2331\n",
      "Epoch [940/1000], Loss: 4163966.1667\n",
      "Epoch [960/1000], Loss: 3071032.7396\n",
      "Epoch [980/1000], Loss: 5564185.9062\n",
      "Epoch [1000/1000], Loss: 28518803.3333\n"
     ]
    }
   ],
   "source": [
    "# 设置训练轮数为1000\n",
    "epochs = 1000\n",
    "# 将模型设置为训练模式\n",
    "model.train()\n",
    "# 初始化一个列表来保存每轮的训练损失\n",
    "train_losses = []\n",
    "\n",
    "# 开始训练循环\n",
    "for epoch in range(epochs):\n",
    "    epoch_loss = 0.0  # 初始化当前epoch的损失\n",
    "    \n",
    "    # 遍历训练数据加载器中的每个batch\n",
    "    for batch_features, batch_labels in train_loader:\n",
    "        # 将特征和标签移动到指定设备(如GPU)\n",
    "        batch_features = batch_features.to(device)\n",
    "        batch_labels = batch_labels.to(device)\n",
    "        \n",
    "        # 前向传播：计算模型输出\n",
    "        outputs = model(batch_features)\n",
    "        # 计算损失\n",
    "        loss = criterion(outputs, batch_labels)\n",
    "        \n",
    "        # 反向传播和优化\n",
    "        optimizer.zero_grad()  # 清空梯度\n",
    "        loss.backward()        # 反向传播计算梯度\n",
    "        optimizer.step()       # 更新模型参数\n",
    "        \n",
    "        # 累加当前batch的损失\n",
    "        epoch_loss += loss.item()\n",
    "    \n",
    "    # 计算并保存当前epoch的平均损失\n",
    "    train_losses.append(epoch_loss / len(train_loader))\n",
    "    \n",
    "    # 每20个epoch打印一次训练信息\n",
    "    if (epoch + 1) % 20 == 0:\n",
    "        print(f'Epoch [{epoch+1}/{epochs}], Loss: {epoch_loss/len(train_loader):.4f}')"
   ]
  },
  {
   "cell_type": "markdown",
   "id": "9fd88e33",
   "metadata": {},
   "source": [
    "## 4.2.Result Visualization"
   ]
  },
  {
   "cell_type": "code",
   "execution_count": 25,
   "id": "f515340c",
   "metadata": {},
   "outputs": [
    {
     "data": {
      "image/png": "[encoded data removed]",
      "text/plain": [
       "<Figure size 1000x600 with 1 Axes>"
      ]
     },
     "metadata": {},
     "output_type": "display_data"
    }
   ],
   "source": [
    "# 创建一个10x6英寸大小的图形\n",
    "plt.figure(figsize=(10, 6))\n",
    "\n",
    "# 绘制训练损失曲线，并添加标签\n",
    "plt.plot(train_losses, label='Training Loss')\n",
    "\n",
    "# 设置图表标题和坐标轴标签\n",
    "plt.title('Training Loss Over Epochs')\n",
    "plt.xlabel('Epoch')\n",
    "plt.ylabel('Loss')\n",
    "\n",
    "# 显示图例\n",
    "plt.legend()\n",
    "\n",
    "# 显示图形\n",
    "plt.show()"
   ]
  },
  {
   "cell_type": "markdown",
   "id": "ab85ff2a",
   "metadata": {},
   "source": [
    "## 4.3.Model Evaluation"
   ]
  },
  {
   "cell_type": "code",
   "execution_count": 26,
   "id": "b8c868e6",
   "metadata": {},
   "outputs": [],
   "source": [
    "# 将模型设置为评估模式（关闭dropout等训练专用层）\n",
    "model.eval()\n",
    "\n",
    "# 禁用梯度计算以提升推理效率\n",
    "with torch.no_grad():\n",
    "    # 将测试特征数据移动到GPU设备（如果可用）\n",
    "    test_features = test_features.to(device)\n",
    "    \n",
    "    # 进行预测：将数据传入模型 -> 转回CPU -> 转为numpy数组 -> 去除多余维度\n",
    "    predictions = model(test_features).cpu().numpy().squeeze()"
   ]
  },
  {
   "cell_type": "markdown",
   "id": "621011a6",
   "metadata": {},
   "source": [
    "# 5.Generate A Submission File"
   ]
  },
  {
   "cell_type": "code",
   "execution_count": 27,
   "id": "f375679d",
   "metadata": {},
   "outputs": [
    {
     "name": "stdout",
     "output_type": "stream",
     "text": [
      "Submission saved!\n"
     ]
    }
   ],
   "source": [
    "# 创建一个DataFrame用于提交预测结果\n",
    "# 创建包含ID和预测房价的两列数据\n",
    "submission = pd.DataFrame({\n",
    "    'Id': test_data['Id'],        # 使用测试数据中的ID列\n",
    "    'SalePrice': predictions      # 使用模型预测的房价结果\n",
    "})\n",
    "\n",
    "# 将DataFrame保存为CSV文件，不保存行索引\n",
    "submission.to_csv('submission.csv', index=False)\n",
    "\n",
    "# 打印保存成功信息\n",
    "print(\"Submission saved!\")"
   ]
  },
  {
   "cell_type": "markdown",
   "id": "daba8f58",
   "metadata": {},
   "source": [
    "# 6.Clear GPU Cache"
   ]
  },
  {
   "cell_type": "code",
   "execution_count": 28,
   "id": "f85cc720",
   "metadata": {},
   "outputs": [],
   "source": [
    "if torch.cuda.is_available():\n",
    "    torch.cuda.empty_cache()"
   ]
  }
 ],
 "metadata": {
  "kernelspec": {
   "display_name": "pytorch3.10",
   "language": "python",
   "name": "python3"
  },
  "language_info": {
   "codemirror_mode": {
    "name": "ipython",
    "version": 3
   },
   "file_extension": ".py",
   "mimetype": "text/x-python",
   "name": "python",
   "nbconvert_exporter": "python",
   "pygments_lexer": "ipython3",
   "version": "3.10.16"
  }
 },
 "nbformat": 4,
 "nbformat_minor": 5
}
